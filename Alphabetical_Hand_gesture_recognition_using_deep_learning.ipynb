{
  "nbformat": 4,
  "nbformat_minor": 0,
  "metadata": {
    "colab": {
      "provenance": [],
      "include_colab_link": true
    },
    "kernelspec": {
      "name": "python3",
      "display_name": "Python 3"
    },
    "language_info": {
      "name": "python"
    }
  },
  "cells": [
    {
      "cell_type": "markdown",
      "metadata": {
        "id": "view-in-github",
        "colab_type": "text"
      },
      "source": [
        "<a href=\"https://colab.research.google.com/github/SanjayD23/Alphabetical-Hand-gesture-recognition-using-deep-leaning/blob/main/Alphabetical_Hand_gesture_recognition_using_deep_learning.ipynb\" target=\"_parent\"><img src=\"https://colab.research.google.com/assets/colab-badge.svg\" alt=\"Open In Colab\"/></a>"
      ]
    },
    {
      "cell_type": "code",
      "source": [
        "pip install scikit-learn"
      ],
      "metadata": {
        "id": "hudEow9dvX3R",
        "outputId": "b779bf13-38ca-4816-a927-6e5f83e5737f",
        "colab": {
          "base_uri": "https://localhost:8080/"
        }
      },
      "execution_count": null,
      "outputs": [
        {
          "output_type": "stream",
          "name": "stdout",
          "text": [
            "Requirement already satisfied: scikit-learn in /usr/local/lib/python3.12/dist-packages (1.6.1)\n",
            "Requirement already satisfied: numpy>=1.19.5 in /usr/local/lib/python3.12/dist-packages (from scikit-learn) (2.0.2)\n",
            "Requirement already satisfied: scipy>=1.6.0 in /usr/local/lib/python3.12/dist-packages (from scikit-learn) (1.16.1)\n",
            "Requirement already satisfied: joblib>=1.2.0 in /usr/local/lib/python3.12/dist-packages (from scikit-learn) (1.5.1)\n",
            "Requirement already satisfied: threadpoolctl>=3.1.0 in /usr/local/lib/python3.12/dist-packages (from scikit-learn) (3.6.0)\n"
          ]
        }
      ]
    },
    {
      "cell_type": "code",
      "execution_count": 5,
      "metadata": {
        "id": "pb9tu_kSs-MO"
      },
      "outputs": [],
      "source": [
        "import numpy as np\n",
        "import pandas as pd\n",
        "import matplotlib.pyplot as plt\n",
        "from sklearn.decomposition import PCA\n",
        "from sklearn.preprocessing import StandardScaler\n",
        "from sklearn.model_selection import train_test_split\n",
        "from sklearn.metrics import accuracy_score, confusion_matrix"
      ]
    },
    {
      "cell_type": "code",
      "source": [
        "from google.colab import drive\n",
        "drive.mount('/content/drive')\n"
      ],
      "metadata": {
        "id": "kHN58v2utRic",
        "colab": {
          "base_uri": "https://localhost:8080/"
        },
        "outputId": "72314585-f792-4072-f228-8c63cdf6cbba"
      },
      "execution_count": 6,
      "outputs": [
        {
          "output_type": "stream",
          "name": "stdout",
          "text": [
            "Drive already mounted at /content/drive; to attempt to forcibly remount, call drive.mount(\"/content/drive\", force_remount=True).\n"
          ]
        }
      ]
    },
    {
      "cell_type": "code",
      "source": [
        "import os\n",
        "data_path = \"/content/drive/MyDrive/alphaset\"\n",
        "os.chdir(data_path)\n",
        "os.listdir(data_path)"
      ],
      "metadata": {
        "id": "1GVratpQ-84n",
        "outputId": "b9c2c1de-d57d-4114-ff8f-04e995836a11",
        "colab": {
          "base_uri": "https://localhost:8080/"
        }
      },
      "execution_count": 7,
      "outputs": [
        {
          "output_type": "execute_result",
          "data": {
            "text/plain": [
              "['A',\n",
              " 'B',\n",
              " 'C',\n",
              " 'D',\n",
              " 'E',\n",
              " 'F',\n",
              " 'G',\n",
              " 'H',\n",
              " 'I',\n",
              " 'J',\n",
              " 'K',\n",
              " 'L',\n",
              " 'M',\n",
              " 'N',\n",
              " 'O',\n",
              " 'P',\n",
              " 'Q',\n",
              " 'R',\n",
              " 'S',\n",
              " 'T',\n",
              " 'U',\n",
              " 'V',\n",
              " 'W',\n",
              " 'X',\n",
              " 'Y',\n",
              " 'Z',\n",
              " 'Alphabetical Hand gesture recognition using deep learning.ipynb',\n",
              " 'images.csv']"
            ]
          },
          "metadata": {},
          "execution_count": 7
        }
      ]
    },
    {
      "cell_type": "code",
      "source": [
        "import cv2 as cv\n",
        "data=[]\n",
        "for i in os.listdir(data_path):\n",
        "  if i=='Alphabetical Hand gesture recognition using deep learning.ipynb':\n",
        "    continue\n",
        "  for j in os.listdir(data_path+'/'+i):\n",
        "    image=cv.imread(data_path+'/'+i+'/'+j)\n",
        "    data.append(np.append(image.flatten(), ord(i)))\n",
        "\n",
        "df=pd.DataFrame(data)\n",
        "df.to_csv('images.csv', index=False)"
      ],
      "metadata": {
        "id": "_BKiHz2m_CU1"
      },
      "execution_count": null,
      "outputs": []
    },
    {
      "cell_type": "code",
      "source": [
        "images=pd.read_csv('images.csv')\n",
        "print(images.head(10))"
      ],
      "metadata": {
        "id": "TE4b1TK1FsI8",
        "outputId": "9d93ae5a-786f-47c8-94e8-aac7cceb9b6b",
        "colab": {
          "base_uri": "https://localhost:8080/"
        }
      },
      "execution_count": 15,
      "outputs": [
        {
          "output_type": "stream",
          "name": "stdout",
          "text": [
            "                    pixels label\n",
            "0  [20 81 17 ...  7 33  9]     A\n",
            "1  [14 74 13 ... 11 37 13]     A\n",
            "2  [23 81 22 ... 23 46 24]     A\n",
            "3  [20 82 22 ... 19 43 19]     A\n",
            "4  [16 76 15 ... 11 38 12]     A\n",
            "5  [12 72 11 ...  7 33  9]     A\n",
            "6  [12 72 11 ... 10 36 12]     A\n",
            "7  [15 75 14 ...  6 32  8]     A\n",
            "8  [17 78 14 ...  9 36 10]     A\n",
            "9  [14 74 13 ...  8 35  9]     A\n"
          ]
        }
      ]
    },
    {
      "cell_type": "code",
      "source": [],
      "metadata": {
        "id": "WEQySWQxHZvG"
      },
      "execution_count": null,
      "outputs": []
    }
  ]
}